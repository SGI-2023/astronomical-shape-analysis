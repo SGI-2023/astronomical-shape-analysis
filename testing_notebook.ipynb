{
 "cells": [
  {
   "cell_type": "code",
   "execution_count": 1,
   "metadata": {},
   "outputs": [
    {
     "name": "stdout",
     "output_type": "stream",
     "text": [
      "Intel MKL WARNING: Support of Intel(R) Streaming SIMD Extensions 4.2 (Intel(R) SSE4.2) enabled only processors has been deprecated. Intel oneAPI Math Kernel Library 2025.0 will require Intel(R) Advanced Vector Extensions (Intel(R) AVX) instructions.\n",
      "Intel MKL WARNING: Support of Intel(R) Streaming SIMD Extensions 4.2 (Intel(R) SSE4.2) enabled only processors has been deprecated. Intel oneAPI Math Kernel Library 2025.0 will require Intel(R) Advanced Vector Extensions (Intel(R) AVX) instructions.\n"
     ]
    }
   ],
   "source": [
    "import numpy as np\n",
    "import scipy as sc\n",
    "import vedo as vd\n",
    "from scipy.spatial import ConvexHull\n",
    "import pandas as pd\n",
    "import seaborn as sns\n",
    "import matplotlib.pyplot as plt\n",
    "\n",
    "import polyscope as ps\n",
    "\n",
    "from sklearn.decomposition import PCA\n",
    "vd.settings.default_backend = 'k3d'"
   ]
  },
  {
   "cell_type": "code",
   "execution_count": 7,
   "metadata": {},
   "outputs": [],
   "source": [
    "\n",
    "def inertia_tensor(points):\n",
    "    # Compute the inertia tensor for a point cloud\n",
    "    # for this code we assume that the mass of each point is 1\n",
    "    # Formulas from: http://www.kwon3d.com/theory/moi/iten.html\n",
    "    center = barycenter(points)\n",
    "\n",
    "    points = points - center\n",
    "\n",
    "    # Get x, y, z coordinates for all points\n",
    "    x, y, z = points[:,0], points[:, 1], points[:, 2]\n",
    "    \n",
    "   \n",
    "    # Diagonal terms of Inertia tensor\n",
    "    Ixx = np.sum(x**2 + y**2, axis=0)\n",
    "    Iyy = np.sum(z**2 + x**2, axis=0)\n",
    "    Izz = np.sum(x**2 + y**2, axis=0)\n",
    "    # Off diagonal terms\n",
    "    Ixy = -np.sum(x*y, axis=0)\n",
    "    Ixz = -np.sum(x*y, axis=0)\n",
    "    Iyz = -np.sum(y*z, axis=0)\n",
    "\n",
    "    # Intertia matrix\n",
    "    I = np.array([\n",
    "        [ Ixx, Ixy, Ixz ], \n",
    "        [ Ixy, Iyy, Iyz ],\n",
    "        [ Ixz, Iyz, Izz ] \n",
    "        ]   \n",
    "    )\n",
    "    \n",
    "    return I\n",
    "\n",
    "\n",
    "def read_xyz(file_path):\n",
    "    # Function to read ixyz data and store in a dictionary\n",
    "    # dic_points .- { 'id' : [points] }\n",
    "\n",
    "    # Init dictionary\n",
    "    dic_points = {}\n",
    "\n",
    "    # Open file\n",
    "    file = open(file_path, \"r\")\n",
    "\n",
    "    # Per each line in file\n",
    "    for line in file:\n",
    "        # Split line \n",
    "        split_line = line.split()    \n",
    "\n",
    "        # Get id in the first position\n",
    "        id = int(split_line[0])\n",
    "\n",
    "        # If id not in dictionary, init empty list\n",
    "        if id not in dic_points:\n",
    "            dic_points[id] = []\n",
    "\n",
    "        # Get position \n",
    "        v = np.array(split_line[1:], dtype=float)\n",
    "        # Add point to corresponding id\n",
    "        dic_points[id].append(v)\n",
    "\n",
    "    return dic_points\n",
    "\n",
    "def read_obj(file_path):\n",
    "    # Function that read an obj file and return a list of tuples with information of each cell\n",
    "    # Output:\n",
    "    #   meshes .- [(vertices: np.array(n x 3) , faces: list(np.array))]\n",
    "\n",
    "    # init list to store meshes\n",
    "    meshes = []\n",
    "\n",
    "    # Init vertices list\n",
    "    vertices = []\n",
    "    # Init faces list\n",
    "    faces = []\n",
    "\n",
    "    # Open file\n",
    "    file = open(file_path, \"r\")\n",
    "\n",
    "    # Set prev line read as \"v\" for initialization\n",
    "    prev_line = \"v\"\n",
    "\n",
    "    # Faces indices corrector\n",
    "    corr_f = 0\n",
    "\n",
    "    for line in file:\n",
    "        # Split line\n",
    "        split_line = line.split()    \n",
    "\n",
    "        # Get type of data {v, f}\n",
    "        actual_line = split_line[0]\n",
    "\n",
    "        # If actual line is v and pref is f, means we started with a new cell\n",
    "        if actual_line == \"v\" and prev_line == \"f\":\n",
    "\n",
    "            # Store previous mesh \n",
    "            meshes.append((vertices, faces))\n",
    "\n",
    "            # Update faces indices corrector\n",
    "            corr_f += len(vertices)\n",
    "\n",
    "            # Clean vertices and faces\n",
    "            vertices = []\n",
    "            faces = []\n",
    "\n",
    "        # Read vertices\n",
    "        if actual_line == 'v':\n",
    "            \n",
    "            v = np.array(split_line[1:], dtype=float)\n",
    "\n",
    "            # Update vertices\n",
    "            vertices.append(v)\n",
    "\n",
    "            # Update prev state\n",
    "            prev_line = \"v\"\n",
    "\n",
    "        # Read faces\n",
    "        elif actual_line == 'f':\n",
    "            \n",
    "            \n",
    "            f = np.array(split_line[1:], dtype=int ) - np.ones(len(split_line[1:]), dtype = int)\n",
    "\n",
    "            # Correct faces indices\n",
    "            f -= corr_f\n",
    "\n",
    "            # Update faces\n",
    "            faces.append(f)\n",
    "\n",
    "            # Update prev state\n",
    "            prev_line = \"f\"\n",
    "\n",
    "    # Append last set of vertices and faces\n",
    "    meshes.append((vertices, faces))\n",
    "\n",
    "    return meshes\n",
    "\n",
    "def read_obj_raw(file_path):\n",
    "    # Function that read an obj file and return a list of tuples with information of each cell\n",
    "    # Output:\n",
    "    # Vertices, faces\n",
    "\n",
    "    # Init vertices list\n",
    "    vertices = []\n",
    "    # Init faces list\n",
    "    faces = []\n",
    "\n",
    "    # Open file\n",
    "    file = open(file_path, \"r\")\n",
    "\n",
    "\n",
    "    for line in file:\n",
    "        # Split line\n",
    "        split_line = line.split()    \n",
    "\n",
    "        # Get type of data {v, f}\n",
    "        actual_line = split_line[0]\n",
    "\n",
    "    \n",
    "        # Read vertices\n",
    "        if actual_line == 'v':\n",
    "            \n",
    "            v = np.array(split_line[1:], dtype=float)\n",
    "\n",
    "            # Update vertices\n",
    "            vertices.append(v)\n",
    "\n",
    "\n",
    "        # Read faces\n",
    "        elif actual_line == 'f':\n",
    "                        \n",
    "            f = np.array(split_line[1:], dtype=int ) - np.ones(len(split_line[1:]), dtype = int)\n",
    "\n",
    "\n",
    "            # Update faces\n",
    "            faces.append(f)\n",
    "\n",
    "    return vertices, faces\n",
    "\n",
    "def barycenter(points):\n",
    "\n",
    "    points = np.array(points)\n",
    "\n",
    "    n = len(points)\n",
    "\n",
    "    bar = np.sum(points, axis=0)/n\n",
    "\n",
    "    return bar"
   ]
  },
  {
   "cell_type": "code",
   "execution_count": 8,
   "metadata": {},
   "outputs": [],
   "source": [
    "proto_halo = read_xyz(\"/Users/cisneras/SGIAstro/local/HADES_1_halo_ptcl_z49.ixyz\")\n",
    "halo = read_xyz(\"/Users/cisneras/SGIAstro/local/HADES_1_halo_ptcl_z0.ixyz\")"
   ]
  },
  {
   "cell_type": "code",
   "execution_count": 4,
   "metadata": {},
   "outputs": [],
   "source": [
    "pc_halo_i = vd.Points(proto_halo[0], c = \"blue\")\n",
    "pc_halo_f = vd.Points(halo[0], c = \"red\")\n",
    "#vd.show(pc_halo_i, pc_halo_f)"
   ]
  },
  {
   "cell_type": "markdown",
   "metadata": {},
   "source": [
    "# Proto Halo"
   ]
  },
  {
   "cell_type": "markdown",
   "metadata": {},
   "source": [
    "## Inertia matrix analysis"
   ]
  },
  {
   "cell_type": "code",
   "execution_count": null,
   "metadata": {},
   "outputs": [],
   "source": [
    "center = barycenter(proto_halo[0])\n",
    "I_proto = intertia_tensor(np.array(proto_halo[0]))\n",
    "eig_val, eig_vec = np.linalg.eig(I_proto)\n",
    "axis_1 = vd.Line(center, center + (eig_val[0]/4)*eig_vec[0], c=[0.0, 0.4, 0.7])\n",
    "axis_2 = vd.Line(center, center + (eig_val[1]/4)*eig_vec[1], c=[0.2, 0.8, 0.4])\n",
    "axis_3 = vd.Line(center, center + (eig_val[2]/4)*eig_vec[2], c=[0.4, 0.1, 0.5])"
   ]
  },
  {
   "cell_type": "markdown",
   "metadata": {},
   "source": [
    "## PCA analysis"
   ]
  },
  {
   "cell_type": "code",
   "execution_count": null,
   "metadata": {},
   "outputs": [],
   "source": [
    "# Init PCA \n",
    "pca = PCA(n_components=3)\n",
    "pca.fit(proto_halo[0])\n",
    "pca_ax_0, pca_ax_1, pca_ax_2 = pca.components_\n",
    "val_0, val_1, val_2 = pca.singular_values_/5\n",
    "pca_axis_1 = vd.Line(center, center + val_0*pca_ax_0, c=[0.9, 0.0, 0])\n",
    "pca_axis_2 = vd.Line(center, center + val_1*pca_ax_1, c=[0.5, 0.4, 0.0])\n",
    "pca_axis_3 = vd.Line(center, center + val_2*pca_ax_2, c=[0., 0., 0.])"
   ]
  },
  {
   "cell_type": "code",
   "execution_count": null,
   "metadata": {},
   "outputs": [],
   "source": [
    "pca.singular_values_"
   ]
  },
  {
   "cell_type": "code",
   "execution_count": null,
   "metadata": {},
   "outputs": [],
   "source": [
    "vd.show(pc_halo_i, axis_1,axis_2,axis_3,  pca_axis_1, pca_axis_2, pca_axis_3)"
   ]
  },
  {
   "cell_type": "markdown",
   "metadata": {},
   "source": [
    "# Halo"
   ]
  },
  {
   "cell_type": "markdown",
   "metadata": {},
   "source": [
    "## Inertia Tensor"
   ]
  },
  {
   "cell_type": "code",
   "execution_count": null,
   "metadata": {},
   "outputs": [],
   "source": [
    "center = barycenter(halo[0])\n",
    "I_halo = intertia_tensor(np.array(halo[0]))\n",
    "eig_val, eig_vec = np.linalg.eig(I_halo)\n",
    "h_axis_1 = vd.Line(center, center + (eig_val[0]/4)*eig_vec[0], c=[0.0, 0.4, 0.7])\n",
    "h_axis_2 = vd.Line(center, center + (eig_val[1]/4)*eig_vec[1], c=[0.2, 0.8, 0.4])\n",
    "h_axis_3 = vd.Line(center, center + (eig_val[2]/4)*eig_vec[2], c=[0.4, 0.1, 0.5])"
   ]
  },
  {
   "cell_type": "markdown",
   "metadata": {},
   "source": [
    "## PCA"
   ]
  },
  {
   "cell_type": "code",
   "execution_count": null,
   "metadata": {},
   "outputs": [],
   "source": [
    "# Init PCA \n",
    "pca = PCA(n_components=3)\n",
    "pca.fit(halo[0])\n",
    "pca_ax_0, pca_ax_1, pca_ax_2 = pca.components_\n",
    "val_0, val_1, val_2 = pca.singular_values_/4\n",
    "pca_h_axis_1 = vd.Line(center, center + val_0*pca_ax_0, c=[0.9, 0.0, 0])\n",
    "pca_h_axis_2 = vd.Line(center, center + val_1*pca_ax_1, c=[0.5, 0.4, 0.0])\n",
    "pca_h_axis_3 = vd.Line(center, center + val_2*pca_ax_2, c=[0., 0., 0.])"
   ]
  },
  {
   "cell_type": "code",
   "execution_count": null,
   "metadata": {},
   "outputs": [],
   "source": [
    "vd.show(pc_halo_f, h_axis_1, h_axis_2, h_axis_3)"
   ]
  },
  {
   "cell_type": "markdown",
   "metadata": {},
   "source": [
    "# Volume Analysis"
   ]
  },
  {
   "cell_type": "code",
   "execution_count": 29,
   "metadata": {},
   "outputs": [],
   "source": [
    "# Read meshes\n",
    "meshes = read_obj(\"/Users/cisneras/SGIAstro/local/HADES_1_gte100ptcl_cells.obj\")"
   ]
  },
  {
   "cell_type": "code",
   "execution_count": 47,
   "metadata": {},
   "outputs": [],
   "source": [
    "# Plot volume Laguerre cell and Convex Hull Proto Halos\n",
    "\n",
    "volumes = []\n",
    "for i in range(len(meshes)):\n",
    "    \n",
    "    #Get vertices mesh\n",
    "    verts = meshes[i][0]\n",
    "\n",
    "    # Get convex hull cell\n",
    "    ch_cell = vd.ConvexHull(verts)\n",
    "\n",
    "    # Compute volume \n",
    "    cell_vol = ch_cell.volume()\n",
    "\n",
    "    # Compute convex hull proto halo\n",
    "    ch_ph = vd.ConvexHull(proto_halo[i])\n",
    "\n",
    "    # Compute volume\n",
    "    ph_vol = ch_ph.volume()\n",
    "\n",
    "    volumes.append([cell_vol, ph_vol])\n"
   ]
  },
  {
   "cell_type": "code",
   "execution_count": 48,
   "metadata": {},
   "outputs": [
    {
     "data": {
      "image/png": "[encoded data removed]",
      "text/plain": [
       "<Figure size 640x480 with 1 Axes>"
      ]
     },
     "metadata": {},
     "output_type": "display_data"
    }
   ],
   "source": [
    "volumes = np.array(volumes)\n",
    "plt.scatter(volumes[:,0], volumes[:,1] , s=0.3)\n",
    "plt.ylabel('Proto Halo Vol')\n",
    "plt.xlabel('Cell Vol')\n",
    "plt.show()"
   ]
  },
  {
   "cell_type": "code",
   "execution_count": 52,
   "metadata": {},
   "outputs": [],
   "source": [
    "volumes_data = {\"Cell Volumes\": volumes[:,0], \"Proto Halo Volumes\": volumes[:,1] }\n",
    "\n",
    "df = pd.DataFrame(volumes_data)\n",
    "df.to_csv(\"Volumes_data.csv\")"
   ]
  },
  {
   "cell_type": "markdown",
   "metadata": {},
   "source": [
    "## Inertia Eigenvalues Difference"
   ]
  },
  {
   "cell_type": "markdown",
   "metadata": {},
   "source": [
    "## Proto Halo vs Halo"
   ]
  },
  {
   "cell_type": "markdown",
   "metadata": {},
   "source": [
    "### Distance functions"
   ]
  },
  {
   "cell_type": "code",
   "execution_count": 9,
   "metadata": {},
   "outputs": [],
   "source": [
    "def cos_similarity(eigsys1, eigsys2):\n",
    "    # Compute the cosine similarity between two list of eigenvectors\n",
    "    # cos_similarity = (vec1.vec2)/(||vec1|| ||vec2||)\n",
    "    # Output.- sum of the elementwise application of cos_similarity of the two list\n",
    "    #          of eigenvectors\n",
    "    \n",
    "    \n",
    "    # Get the eigenvectors\n",
    "    _, e_vec_1 = eigsys1\n",
    "    _, e_vec_2 = eigsys2\n",
    "\n",
    "    # Compute the sum of dot products\n",
    "    dots = np.sum(e_vec_1*e_vec_2) \n",
    "    \n",
    "    return dots\n",
    "\n",
    "\n",
    "def lenght_diff(eigsys1, eigsys2):\n",
    "    # Compute the lengthe difference between the eigenvectors\n",
    "    \n",
    "    # Get the eigenvalues\n",
    "    e_val_1,_ = eigsys1\n",
    "    e_val_2,_ = eigsys2\n",
    "\n",
    "    # Compute the sum of dot products\n",
    "    diff = np.sum(np.abs(e_val_2 - e_val_1 )) \n",
    "    \n",
    "    return diff\n",
    "\n",
    "def euc_dis(eigsys1, eigsys2):\n",
    "    # Compute the euclidean distance between each corresponding eigenvector\n",
    "\n",
    "    # Get the eigenvectors\n",
    "    e_val_1, e_vec_1 = eigsys1\n",
    "    e_val_2, e_vec_2 = eigsys2\n",
    "\n",
    "    # Scale vectors\n",
    "    e_vec_1 = (e_val_1*np.transpose(e_vec_1)).transpose()\n",
    "    e_vec_2 = (e_val_2*np.transpose(e_vec_2)).transpose()\n",
    "\n",
    "    # Euclidean distance vectorwise\n",
    "    euc_dis = np.linalg.norm( e_vec_2 - e_vec_1, axis=1 )\n",
    "    \n",
    "    return np.sum(euc_dis)    \n",
    "    \n",
    "\n",
    "def transformation_dis(eigsys1, eigsys2):\n",
    "    # Function that compute the transformation matrix A to pass from \n",
    "    # eigensystem 1 to eigensystem 2. Then, it computes the L2 norm of\n",
    "    # the matrix A\n",
    "\n",
    "    # Get the eigenvectors\n",
    "    e_val_1, e_vec_1 = eigsys1\n",
    "    e_val_2, e_vec_2 = eigsys2\n",
    "\n",
    "    # Scale vectors\n",
    "    e_vec_1 = (e_val_1*np.transpose(e_vec_1))\n",
    "    e_vec_2 = (e_val_2*np.transpose(e_vec_2))\n",
    "\n",
    "    # Construct matrices U and V using the given vectors\n",
    "    U = e_vec_1\n",
    "    V = e_vec_2\n",
    "\n",
    "    # Calculate the matrix A using the formula A = V * U^(-1)\n",
    "    U_inv = np.linalg.inv(U)\n",
    "    A = np.dot(V, U_inv)\n",
    "\n",
    "    # Compute L2 norm matrix A\n",
    "    norm_A = np.linalg.norm(A, 2)\n",
    "\n",
    "    return norm_A\n",
    "\n",
    "\n",
    "def homogeneous_dis(eigsys1, eigsys2, center_1, center_2):\n",
    "    # Function that compute the transformation matrix A to pass from \n",
    "    # eigensystem 1 to eigensystem 2 and also considers the displancement\n",
    "    # using homogeneous coordinates. \n",
    "    # Then, it computes the L2 norm of the matrix A\n",
    "\n",
    "    # Get the eigenvectors\n",
    "    e_val_1, e_vec_1 = eigsys1\n",
    "    e_val_2, e_vec_2 = eigsys2\n",
    "\n",
    "    # Scale vectors\n",
    "    e_vec_1 = (e_val_1*np.transpose(e_vec_1))\n",
    "    e_vec_2 = (e_val_2*np.transpose(e_vec_2))\n",
    "\n",
    "    # Construct matrices U and V using the given vectors\n",
    "    U = e_vec_1\n",
    "    V = e_vec_2\n",
    "\n",
    "    # Calculate the matrix A using the formula A = V * U^(-1)\n",
    "    U_inv = np.linalg.inv(U)\n",
    "    A = np.dot(V, U_inv)\n",
    "\n",
    "    # Here we extend matrix to\n",
    "    # | a11 a12 a13 |\n",
    "    # | a21 a22 a23 |\n",
    "    # | a31 a32 a33 |\n",
    "    # |  0   0   0  |\n",
    "    A = np.vstack((A, [0,0,0]))\n",
    "\n",
    "    # Get displacement\n",
    "    d = center_2 - center_1\n",
    "    d = np.hstack((d, [1]))\n",
    "\n",
    "    # Add d as a column of A\n",
    "    # | a11 a12 a13 d1|\n",
    "    # | a21 a22 a23 d2|\n",
    "    # | a31 a32 a33 d3|\n",
    "    # |  0   0   0   1|\n",
    "    \n",
    "    d = d.reshape((4, 1))\n",
    "    A = np.hstack((A, d))\n",
    "    # Compute L2 norm matrix A\n",
    "    norm_A = np.linalg.norm(A, 2)\n",
    "\n",
    "    return norm_A\n",
    "\n",
    "def distance_bary(center_1, center_2):    \n",
    "    return np.linalg.norm(center_2 - center_1)"
   ]
  },
  {
   "cell_type": "code",
   "execution_count": 10,
   "metadata": {},
   "outputs": [],
   "source": [
    "def visualize_axes(points, scale=4, colors = [[0.9, 0.0, 0], [0.5, 0.4, 0.0],[0., 0., 0.]]):\n",
    "    # Compute the inertia tensor \n",
    "    I = inertia_tensor(points)\n",
    "\n",
    "    # Compute barycenter\n",
    "    center = barycenter(points)\n",
    "\n",
    "    # Get eigen systems\n",
    "    eig_v, eig_vec = np.linalg.eig(I)\n",
    "\n",
    "    # Create lines per each vector\n",
    "\n",
    "    val_0, val_1, val_2 = eig_v/scale\n",
    "    axis_1 = vd.Line(center, center + val_0*eig_vec[0], c=colors[0])\n",
    "    axis_2 = vd.Line(center, center + val_1*eig_vec[1], c=colors[1])\n",
    "    axis_3 = vd.Line(center, center + val_2*eig_vec[2], c=colors[2])\n",
    "\n",
    "    return axis_1, axis_2, axis_3\n",
    "    "
   ]
  },
  {
   "cell_type": "markdown",
   "metadata": {},
   "source": [
    "### Compute and store distances"
   ]
  },
  {
   "cell_type": "code",
   "execution_count": 11,
   "metadata": {},
   "outputs": [],
   "source": [
    "# Init data frame\n",
    "distances = {\"Cos_similarity\":[], \n",
    "            \"Lenght_diff\":[], \n",
    "            \"Euc_dist\":[], \n",
    "            \"Transf_dist\":[],\n",
    "            \"Hom_dist\":[],\n",
    "            \"Distance_centers\":[]\n",
    "            }\n",
    "\n",
    "# Loop over halos\n",
    "for i in range(len(proto_halo)):\n",
    "\n",
    "    # Get points proto halo and halo\n",
    "    points_ph =  proto_halo[i]\n",
    "    points_h  =  halo[i]\n",
    "\n",
    "    # Get centers of mass of halos\n",
    "    center_ph = barycenter(points_ph)\n",
    "    center_h = barycenter(points_h)\n",
    "\n",
    "    # Compute the inertia tensor \n",
    "    I_proto = inertia_tensor(points_ph)\n",
    "    I_halo  = inertia_tensor(points_h)\n",
    "\n",
    "    # Get eigen systems\n",
    "    eigsystem_proto = np.linalg.eig(I_proto)\n",
    "    eigsystem_halo  = np.linalg.eig(I_halo)\n",
    "\n",
    "    # Compute corresponding distances and add them to the dictionary\n",
    "    distances[\"Cos_similarity\"].append(cos_similarity(eigsystem_proto, eigsystem_halo))\n",
    "    distances[\"Lenght_diff\"].append(lenght_diff(eigsystem_proto, eigsystem_halo))\n",
    "    distances[\"Euc_dist\"].append(euc_dis(eigsystem_proto, eigsystem_halo))\n",
    "    distances[\"Transf_dist\"].append(transformation_dis(eigsystem_proto, eigsystem_halo))\n",
    "    distances[\"Hom_dist\"].append(homogeneous_dis(eigsystem_proto, eigsystem_halo, center_ph, center_h))\n",
    "    distances[\"Distance_centers\"].append(distance_bary(center_ph, center_h))\n",
    "\n",
    "\n",
    "# Create data frame\n",
    "df = pd.DataFrame(distances)"
   ]
  },
  {
   "cell_type": "markdown",
   "metadata": {},
   "source": [
    "### Export to csv"
   ]
  },
  {
   "cell_type": "code",
   "execution_count": 10,
   "metadata": {},
   "outputs": [
    {
     "name": "stdout",
     "output_type": "stream",
     "text": [
      "       Cos_similarity   Lenght_diff      Euc_dist  Transf_dist  Hom_dist  \\\n",
      "0           -0.894927  3.156576e+06  3.218703e+06     0.020289  6.078121   \n",
      "1            1.363597  3.177388e+06  3.211911e+06     0.044888  3.435506   \n",
      "2           -0.939070  2.034615e+06  2.066876e+06     0.015963  5.212420   \n",
      "3            2.670167  2.537082e+06  2.543595e+06     0.061726  7.695426   \n",
      "4            0.540462  1.911826e+06  1.977746e+06     0.050398  9.239602   \n",
      "...               ...           ...           ...          ...       ...   \n",
      "66055        2.863841  5.337969e+03  5.340111e+03     0.014605  9.882243   \n",
      "66056        2.830902  5.173147e+03  5.176684e+03     0.011835  9.052314   \n",
      "66057       -0.982685  7.139637e+03  7.259046e+03     0.017531  9.942227   \n",
      "66058        0.704210  4.215998e+03  4.268648e+03     0.019213  6.059308   \n",
      "66059       -0.999544  6.881136e+03  6.963190e+03     0.012368  2.437775   \n",
      "\n",
      "       Distance_centers  \n",
      "0              5.995276  \n",
      "1              3.286661  \n",
      "2              5.115578  \n",
      "3              7.630097  \n",
      "4              9.185246  \n",
      "...                 ...  \n",
      "66055          9.831512  \n",
      "66056          8.996903  \n",
      "66057          9.891796  \n",
      "66058          5.976203  \n",
      "66059          2.223203  \n",
      "\n",
      "[66060 rows x 6 columns]\n"
     ]
    }
   ],
   "source": [
    "df.to_csv('distances_unscaled.csv')"
   ]
  },
  {
   "cell_type": "markdown",
   "metadata": {},
   "source": [
    "### Correlation between computed distances"
   ]
  },
  {
   "cell_type": "code",
   "execution_count": 12,
   "metadata": {},
   "outputs": [
    {
     "data": {
      "text/plain": [
       "<Axes: >"
      ]
     },
     "execution_count": 12,
     "metadata": {},
     "output_type": "execute_result"
    },
    {
     "data": {
      "image/png": "[encoded data removed]",
      "text/plain": [
       "<Figure size 640x480 with 2 Axes>"
      ]
     },
     "metadata": {},
     "output_type": "display_data"
    }
   ],
   "source": [
    "#df = pd.read_csv('distances_unscaled.csv')\n",
    "correlation = df.corr()\n",
    "\n",
    "\n",
    "# plot the heatmap\n",
    "sns.heatmap(correlation, xticklabels=correlation.columns, yticklabels=correlation.columns,  annot=True)"
   ]
  },
  {
   "cell_type": "markdown",
   "metadata": {},
   "source": [
    "### Histograms of Each Distance function"
   ]
  },
  {
   "cell_type": "code",
   "execution_count": 18,
   "metadata": {},
   "outputs": [
    {
     "data": {
      "text/plain": [
       "array([[<Axes: title={'center': 'Cos_similarity'}>,\n",
       "        <Axes: title={'center': 'Lenght_diff'}>],\n",
       "       [<Axes: title={'center': 'Euc_dist'}>,\n",
       "        <Axes: title={'center': 'Transf_dist'}>],\n",
       "       [<Axes: title={'center': 'Hom_dist'}>,\n",
       "        <Axes: title={'center': 'Distance_centers'}>]], dtype=object)"
      ]
     },
     "execution_count": 18,
     "metadata": {},
     "output_type": "execute_result"
    },
    {
     "data": {
      "image/png": "[encoded data removed]",
      "text/plain": [
       "<Figure size 1000x1000 with 6 Axes>"
      ]
     },
     "metadata": {},
     "output_type": "display_data"
    }
   ],
   "source": [
    "df.hist(bins=20, figsize= [10, 10])"
   ]
  },
  {
   "cell_type": "markdown",
   "metadata": {},
   "source": [
    "## Visualization of data"
   ]
  },
  {
   "cell_type": "code",
   "execution_count": 13,
   "metadata": {},
   "outputs": [
    {
     "name": "stdout",
     "output_type": "stream",
     "text": [
      "Mesh id: Cos_similarity        2.675028\n",
      "Lenght_diff       40186.895327\n",
      "Euc_dist          40210.535408\n",
      "Transf_dist           0.007416\n",
      "Hom_dist             25.703078\n",
      "Name: 19508, dtype: float64\n",
      "Number of points: 237\n"
     ]
    },
    {
     "data": {
      "application/vnd.jupyter.widget-view+json": {
       "model_id": "fc49505e0aeb4b7e83eb1e533d60d75d",
       "version_major": 2,
       "version_minor": 0
      },
      "text/plain": [
       "Plot(antialias=True, axes=['x', 'y', 'z'], axes_helper=1.0, axes_helper_colors=[16711680, 65280, 255], backgro…"
      ]
     },
     "metadata": {},
     "output_type": "display_data"
    }
   ],
   "source": [
    "max_row = df.loc[df['Hom_dist'].idxmax()]\n",
    "# Define id of visualized proto halo and halo\n",
    "id = max_row.name\n",
    "\n",
    "# Get points into a point cloud for visualization\n",
    "proto_vis = vd.Points(proto_halo[id], r=8, c = [0.9, 0.2, 0.1])\n",
    "halo_vis  = vd.Points(halo[id], r=10, c = [0,0,0])\n",
    "#cell = vd.Mesh((meshes[id][0], meshes[id][1]), alpha=0.4)\n",
    "\n",
    "# Visualization of axes \n",
    "p_ax_1, p_ax_2, p_ax_3 = visualize_axes(proto_halo[id], scale=1)\n",
    "h_ax_1, h_ax_2, h_ax_3 = visualize_axes(halo[id], scale =0.02)\n",
    "# Print information\n",
    "print(f\"Mesh id: {max_row}\")\n",
    "print(f\"Number of points: {len(proto_halo[id])}\")\n",
    "\n",
    "# Visualizaiton of halos with axes\n",
    "#vd.show(proto_vis, halo_vis, p_ax_1, p_ax_2, p_ax_3 , h_ax_1, h_ax_2, h_ax_3)\n",
    "\n",
    "# Visualizaiton of halos\n",
    "vd.show(proto_vis, halo_vis)"
   ]
  },
  {
   "cell_type": "code",
   "execution_count": 37,
   "metadata": {},
   "outputs": [],
   "source": [
    "proto_points = []\n",
    "\n",
    "for k, pts in proto_halo.items():\n",
    "    for pt in pts:\n",
    "        proto_points.append(pt)\n",
    "\n",
    "proto_points = np.array(proto_points)"
   ]
  },
  {
   "cell_type": "code",
   "execution_count": 38,
   "metadata": {},
   "outputs": [],
   "source": [
    "halo_points = []\n",
    "\n",
    "for k, pts in halo.items():\n",
    "    for pt in pts:\n",
    "        halo_points.append(pt)\n",
    "\n",
    "halo_points = np.array(halo_points)"
   ]
  },
  {
   "cell_type": "code",
   "execution_count": 9,
   "metadata": {},
   "outputs": [],
   "source": [
    "# Read obj raw\n",
    "vertices, faces = read_obj_raw(\"/Users/cisneras/SGIAstro/local/HADES_1_gte100ptcl_cells.obj\")"
   ]
  },
  {
   "cell_type": "code",
   "execution_count": 12,
   "metadata": {},
   "outputs": [
    {
     "name": "stderr",
     "output_type": "stream",
     "text": [
      "2023-08-11 00:16:06.684 python[44255:533902] GLDRendererMetal command buffer completion error: Error Domain=MTLCommandBufferErrorDomain Code=8 \"Insufficient Memory (00000008:kIOGPUCommandBufferCallbackErrorOutOfMemory)\" UserInfo={NSLocalizedDescription=Insufficient Memory (00000008:kIOGPUCommandBufferCallbackErrorOutOfMemory)}\n"
     ]
    },
    {
     "ename": "TypeError",
     "evalue": "register_point_cloud() got an unexpected keyword argument 'adius'",
     "output_type": "error",
     "traceback": [
      "\u001b[0;31m---------------------------------------------------------------------------\u001b[0m",
      "\u001b[0;31mTypeError\u001b[0m                                 Traceback (most recent call last)",
      "Cell \u001b[0;32mIn[12], line 12\u001b[0m\n\u001b[1;32m     10\u001b[0m ps_mesh \u001b[39m=\u001b[39m ps\u001b[39m.\u001b[39mregister_surface_mesh(\u001b[39m\"\u001b[39m\u001b[39mObj_raw\u001b[39m\u001b[39m\"\u001b[39m, np\u001b[39m.\u001b[39marray(vertices), faces)\n\u001b[1;32m     11\u001b[0m ps\u001b[39m.\u001b[39mshow()\n\u001b[0;32m---> 12\u001b[0m ps_cloud \u001b[39m=\u001b[39m ps\u001b[39m.\u001b[39;49mregister_point_cloud(\u001b[39m\"\u001b[39;49m\u001b[39mHalo\u001b[39;49m\u001b[39m\"\u001b[39;49m, halo_points, adius\u001b[39m=\u001b[39;49m\u001b[39m0.01\u001b[39;49m)\n\u001b[1;32m     13\u001b[0m ps\u001b[39m.\u001b[39mshow()\n",
      "\u001b[0;31mTypeError\u001b[0m: register_point_cloud() got an unexpected keyword argument 'adius'"
     ]
    }
   ],
   "source": [
    "# t_proto_vis = vd.Points(proto_points[:], r =20, c = [0.9, 0.2, 0.1])\n",
    "# t_halo_vis  = vd.Points(halo_points[:4000], r=10)\n",
    "\n",
    "ps.init()\n",
    "\n",
    "# visualize!\n",
    "#ps_cloud = ps.register_point_cloud(\"Proto_Halo\", proto_points)\n",
    "\n",
    "# visualize!\n",
    "ps_mesh = ps.register_surface_mesh(\"Obj_raw\", np.array(vertices), faces)\n",
    "ps.show()\n",
    "ps_cloud = ps.register_point_cloud(\"Halo\", halo_points, adius=0.01)\n",
    "ps.show()\n",
    "\n",
    "# # with some options\n",
    "# ps_cloud_opt = ps.register_point_cloud(\"my points\", points, \n",
    "#                                        radius=0.02, point_render_mode='quad')\n",
    "# ps.show()"
   ]
  }
 ],
 "metadata": {
  "kernelspec": {
   "display_name": "astro",
   "language": "python",
   "name": "python3"
  },
  "language_info": {
   "codemirror_mode": {
    "name": "ipython",
    "version": 3
   },
   "file_extension": ".py",
   "mimetype": "text/x-python",
   "name": "python",
   "nbconvert_exporter": "python",
   "pygments_lexer": "ipython3",
   "version": "3.10.12"
  },
  "orig_nbformat": 4
 },
 "nbformat": 4,
 "nbformat_minor": 2
}
