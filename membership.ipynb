{
 "cells": [
  {
   "cell_type": "code",
   "execution_count": 1,
   "id": "01f8dfe2-a225-48f1-8651-d88f99e24f4f",
   "metadata": {},
   "outputs": [],
   "source": [
    "import numpy as np\n",
    "   \n",
    "def read_obj(file_path):\n",
    "    # Function that read an obj file and return a list of tuples with information of each cell\n",
    "    # Output:\n",
    "    #   meshes .- [(vertices: np.array(n x 3) , faces: list(np.array))]\n",
    "\n",
    "    # init list to store meshes\n",
    "    meshes = []\n",
    "\n",
    "    # Init vertices list\n",
    "    vertices = []\n",
    "    # Init faces list\n",
    "    faces = []\n",
    "\n",
    "    # Open file\n",
    "    file = open(file_path, \"r\")\n",
    "\n",
    "    # Set prev line read as \"v\" for initialization\n",
    "    prev_line = \"v\"\n",
    "\n",
    "    # Faces indices corrector\n",
    "    corr_f = 0\n",
    "\n",
    "    for line in file:\n",
    "        # Split line\n",
    "        split_line = line.split()    \n",
    "\n",
    "        # Get type of data {v, f}\n",
    "        actual_line = split_line[0]\n",
    "\n",
    "        # If actual line is v and pref is f, means we started with a new cell\n",
    "        if actual_line == \"v\" and prev_line == \"f\":\n",
    "\n",
    "            # Store previous mesh \n",
    "            meshes.append((vertices, faces))\n",
    "\n",
    "            # Update faces indices corrector\n",
    "            corr_f += len(vertices)\n",
    "\n",
    "            # Clean vertices and faces\n",
    "            vertices = []\n",
    "            faces = []\n",
    "\n",
    "        # Read vertices\n",
    "        if actual_line == 'v':\n",
    "            \n",
    "            v = np.array(split_line[1:], dtype=float)\n",
    "\n",
    "            # Update vertices\n",
    "            vertices.append(v)\n",
    "\n",
    "            # Update prev state\n",
    "            prev_line = \"v\"\n",
    "\n",
    "        # Read faces\n",
    "        elif actual_line == 'f':\n",
    "            \n",
    "            \n",
    "            f = np.array(split_line[1:], dtype=int ) - np.ones(len(split_line[1:]), dtype = int)\n",
    "\n",
    "            # Correct faces indices\n",
    "            f -= corr_f\n",
    "\n",
    "            # Update faces\n",
    "            faces.append(f)\n",
    "\n",
    "            # Update prev state\n",
    "            prev_line = \"f\"\n",
    "\n",
    "    # Append last set of vertices and faces\n",
    "    meshes.append((vertices, faces))\n",
    "\n",
    "    return meshes"
   ]
  },
  {
   "cell_type": "code",
   "execution_count": 2,
   "id": "da05c5da-aac1-4047-86a4-99d8a40e821e",
   "metadata": {},
   "outputs": [],
   "source": [
    "meshes = read_obj(\"/mnt/home/fnikakhtar/ceph/data-ot/recon/1/HADES_1_gte100ptcl_cells.obj\")"
   ]
  },
  {
   "cell_type": "code",
   "execution_count": 35,
   "id": "c223896a-5377-4b61-b5de-d2ddab00beca",
   "metadata": {},
   "outputs": [
    {
     "name": "stdout",
     "output_type": "stream",
     "text": [
      "# of cells: 66060\n"
     ]
    }
   ],
   "source": [
    "print('# of cells:', len(meshes))"
   ]
  },
  {
   "cell_type": "code",
   "execution_count": 4,
   "id": "6472994c-dd4d-496f-8ef2-58c0c3e77c50",
   "metadata": {},
   "outputs": [],
   "source": [
    "verts, faces = meshes[0]"
   ]
  },
  {
   "cell_type": "code",
   "execution_count": 49,
   "id": "5c678180-8f53-4496-a6d2-7c2ef07bcca0",
   "metadata": {},
   "outputs": [
    {
     "name": "stdout",
     "output_type": "stream",
     "text": [
      "first cell:\n",
      "# of faces: 648\n",
      "# of verts: 1292\n"
     ]
    }
   ],
   "source": [
    "print('first cell:')\n",
    "print('# of faces:', len(faces))\n",
    "print('# of verts:', len(verts))"
   ]
  },
  {
   "cell_type": "code",
   "execution_count": 32,
   "id": "bafb78f6-f054-4a73-ac75-b45ee80f7c01",
   "metadata": {},
   "outputs": [],
   "source": [
    "face = faces[0]"
   ]
  },
  {
   "cell_type": "code",
   "execution_count": 61,
   "id": "1e3a3076-b660-404f-bf5d-1db8e435f71d",
   "metadata": {},
   "outputs": [
    {
     "data": {
      "text/plain": [
       "array([1291, 1288, 1286, 1289])"
      ]
     },
     "execution_count": 61,
     "metadata": {},
     "output_type": "execute_result"
    }
   ],
   "source": [
    "face"
   ]
  },
  {
   "cell_type": "code",
   "execution_count": 13,
   "id": "c7e62fa4-3696-4bdb-be54-edc49128fea7",
   "metadata": {},
   "outputs": [],
   "source": [
    "v0, v1, v2 = verts[face[0]], verts[face[1]], verts[face[2]]"
   ]
  },
  {
   "cell_type": "code",
   "execution_count": null,
   "id": "1c3b7de7-5994-4811-9ef7-115f7e24a618",
   "metadata": {},
   "outputs": [],
   "source": [
    "def compute_normal_vector(v0, v1, v2):\n",
    "    # Compute edge vectors\n",
    "    e1 = v1 - v0\n",
    "    e2 = v2 - v0\n",
    "    \n",
    "    # Compute the cross product\n",
    "    normal = np.cross(e1, e2)\n",
    "    \n",
    "    # Normalize the normal vector\n",
    "    normal_normalized = normal / np.linalg.norm(normal)\n",
    "    \n",
    "    return normal_normalized"
   ]
  },
  {
   "cell_type": "code",
   "execution_count": 50,
   "id": "42563ba5-7d29-47b4-bb69-95ec5815bee1",
   "metadata": {},
   "outputs": [],
   "source": [
    "normalvec = compute_normal_vector(v0, v1, v2)"
   ]
  },
  {
   "cell_type": "code",
   "execution_count": 68,
   "id": "0c7e5518-5877-435c-ab8e-a2c105824a07",
   "metadata": {},
   "outputs": [
    {
     "name": "stdout",
     "output_type": "stream",
     "text": [
      "it is inside of the cell!\n"
     ]
    }
   ],
   "source": [
    "epsilon = 1e-10\n",
    "point = np.array([0.2, 0.8, 0.3]) # this is the point we want to check!\n",
    "\n",
    "if np.dot(normalvec, point - v0) > epsilon:\n",
    "    print('it is outside of the cell!')\n",
    "else:\n",
    "    print('it is inside of the cell!')"
   ]
  },
  {
   "cell_type": "code",
   "execution_count": null,
   "id": "80fff10a-b37d-4620-bb78-11131f218451",
   "metadata": {},
   "outputs": [],
   "source": []
  }
 ],
 "metadata": {
  "kernelspec": {
   "display_name": "idp",
   "language": "python",
   "name": "idp"
  },
  "language_info": {
   "codemirror_mode": {
    "name": "ipython",
    "version": 3
   },
   "file_extension": ".py",
   "mimetype": "text/x-python",
   "name": "python",
   "nbconvert_exporter": "python",
   "pygments_lexer": "ipython3",
   "version": "3.6.3"
  }
 },
 "nbformat": 4,
 "nbformat_minor": 5
}
