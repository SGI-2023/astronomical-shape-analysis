{
 "cells": [
  {
   "cell_type": "code",
   "execution_count": 1,
   "metadata": {},
   "outputs": [
    {
     "name": "stdout",
     "output_type": "stream",
     "text": [
      "Intel MKL WARNING: Support of Intel(R) Streaming SIMD Extensions 4.2 (Intel(R) SSE4.2) enabled only processors has been deprecated. Intel oneAPI Math Kernel Library 2025.0 will require Intel(R) Advanced Vector Extensions (Intel(R) AVX) instructions.\n",
      "Intel MKL WARNING: Support of Intel(R) Streaming SIMD Extensions 4.2 (Intel(R) SSE4.2) enabled only processors has been deprecated. Intel oneAPI Math Kernel Library 2025.0 will require Intel(R) Advanced Vector Extensions (Intel(R) AVX) instructions.\n"
     ]
    }
   ],
   "source": [
    "import numpy as np\n",
    "import vedo as vd\n",
    "# To visualize with vedo in jupyter the best option is to install 'k3d'\n",
    "# you can use pip install k3d to install it\n",
    "vd.settings.default_backend = 'k3d'\n",
    "# You can change k3d for: 'vtk', which open a separated window; 'ipyvtk', that run in the jupyter but it is quite slow\n",
    "# or simply '2d' that is just a 2d image."
   ]
  },
  {
   "cell_type": "markdown",
   "metadata": {},
   "source": [
    "## Example"
   ]
  },
  {
   "cell_type": "code",
   "execution_count": 2,
   "metadata": {},
   "outputs": [
    {
     "data": {
      "application/vnd.jupyter.widget-view+json": {
       "model_id": "6d0cb988c2ff458faf2c5bc5233f0ca0",
       "version_major": 2,
       "version_minor": 0
      },
      "text/plain": [
       "Plot(antialias=True, axes=['x', 'y', 'z'], axes_helper=1.0, axes_helper_colors=[16711680, 65280, 255], backgro…"
      ]
     },
     "metadata": {},
     "output_type": "display_data"
    }
   ],
   "source": [
    "# Example\n",
    "\n",
    "# Define the vertices of the cube\n",
    "vertices = np.array([\n",
    "    [0, 0, 0],  # Vertex 0\n",
    "    [1, 0, 0],  # Vertex 1\n",
    "    [1, 1, 0],  # Vertex 2\n",
    "    [0, 1, 0],  # Vertex 3\n",
    "    [0, 0, 1],  # Vertex 4\n",
    "    [1, 0, 1],  # Vertex 5\n",
    "    [1, 1, 1],  # Vertex 6\n",
    "    [0, 1, 1]   # Vertex 7\n",
    "])\n",
    "\n",
    "# Define the faces of the cube \n",
    "faces = np.array([\n",
    "    [0, 1, 2, 3],  # Face 0 (bottom)\n",
    "    [4, 5, 6, 7],  # Face 1 (top)\n",
    "    [0, 1, 5, 4],  # Face 2 (front)\n",
    "    [2, 3, 7, 6],  # Face 3 (back)\n",
    "    [0, 3, 7, 4],  # Face 4 (left)\n",
    "    [1, 2, 6, 5]   # Face 5 (right)\n",
    "])\n",
    "\n",
    "# Random point cloud inside cube\n",
    "points = np.random.rand(20,3)\n",
    "\n",
    "# Define cube\n",
    "cube = vd.Mesh([vertices, faces], c = [0, 0.5, 1], alpha = 0.5)\n",
    "\n",
    "# Define point cloud\n",
    "point_cloud = vd.Points(points, c ='red', r = 11)\n",
    "\n",
    "vd.show(cube, point_cloud)"
   ]
  },
  {
   "cell_type": "code",
   "execution_count": null,
   "metadata": {},
   "outputs": [],
   "source": []
  }
 ],
 "metadata": {
  "kernelspec": {
   "display_name": "astro",
   "language": "python",
   "name": "python3"
  },
  "language_info": {
   "codemirror_mode": {
    "name": "ipython",
    "version": 3
   },
   "file_extension": ".py",
   "mimetype": "text/x-python",
   "name": "python",
   "nbconvert_exporter": "python",
   "pygments_lexer": "ipython3",
   "version": "3.10.12"
  },
  "orig_nbformat": 4
 },
 "nbformat": 4,
 "nbformat_minor": 2
}
