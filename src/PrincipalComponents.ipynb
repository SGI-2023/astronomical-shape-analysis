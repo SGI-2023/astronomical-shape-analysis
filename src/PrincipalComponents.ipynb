{
 "cells": [
  {
   "cell_type": "code",
   "execution_count": null,
   "metadata": {},
   "outputs": [],
   "source": [
    "from PlotWithAxis import *\n",
    "from utilities import *\n",
    "import vedo as vd\n",
    "id = 1"
   ]
  },
  {
   "cell_type": "code",
   "execution_count": null,
   "metadata": {},
   "outputs": [],
   "source": [
    "CELLS = read_obj(\"../data/HADES_1_gte100ptcl_cells.obj\")"
   ]
  },
  {
   "cell_type": "code",
   "execution_count": null,
   "metadata": {},
   "outputs": [],
   "source": [
    "#evecs, evals, mean, fig = PlotWithAxis(id, \"../data/HADES_1_halo_ptcl_z0.ixyz\")\n",
    "#fig.show()"
   ]
  },
  {
   "cell_type": "code",
   "execution_count": null,
   "metadata": {},
   "outputs": [],
   "source": [
    "evecs, evals, mean, fig = PlotWithAxis(id, filename = \"../data/HADES_1_halo_ptcl_z49.ixyz\", AColors = [\"blue\", \"blue\", \"blue\"])\n",
    "\n",
    "V, F = CELLS[id]\n",
    "V = 1000*np.array(V)\n",
    "\n",
    "evecs, evals, mean, fig = PlotWithAxis(id, V, fig = fig, Pcolor = \"black\", AColors = [\"black\", \"black\", \"black\"])\n",
    "fig.show()"
   ]
  }
 ],
 "metadata": {
  "kernelspec": {
   "display_name": "Python 3",
   "language": "python",
   "name": "python3"
  },
  "language_info": {
   "codemirror_mode": {
    "name": "ipython",
    "version": 3
   },
   "file_extension": ".py",
   "mimetype": "text/x-python",
   "name": "python",
   "nbconvert_exporter": "python",
   "pygments_lexer": "ipython3",
   "version": "3.11.3"
  },
  "orig_nbformat": 4
 },
 "nbformat": 4,
 "nbformat_minor": 2
}
